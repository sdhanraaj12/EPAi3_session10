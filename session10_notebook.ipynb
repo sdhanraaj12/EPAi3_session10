{
 "cells": [
  {
   "cell_type": "code",
   "execution_count": 1,
   "metadata": {},
   "outputs": [],
   "source": [
    "# Importing packages\n",
    "from polygon import regular_polygon\n",
    "from customPolygon import custom_polygon_sequence"
   ]
  },
  {
   "cell_type": "markdown",
   "metadata": {},
   "source": [
    "### Class regular_polygon"
   ]
  },
  {
   "cell_type": "code",
   "execution_count": 2,
   "metadata": {},
   "outputs": [],
   "source": [
    "# Checking the regular_polygon class and its objects\n",
    "reg_polygon1 = regular_polygon(6, 10) #Hexagon with circum_radius 10\n",
    "reg_polygon2 = regular_polygon(12, 5) #Dodecagon with circum_radius 5"
   ]
  },
  {
   "cell_type": "code",
   "execution_count": 3,
   "metadata": {},
   "outputs": [
    {
     "name": "stdout",
     "output_type": "stream",
     "text": [
      "This is a regular polygon with 6 sides and 10 unit circum_radius\n",
      "This is a regular polygon with 12 sides and 5 unit circum_radius\n"
     ]
    }
   ],
   "source": [
    "# Checking the object representation\n",
    "print(reg_polygon1)\n",
    "print(reg_polygon2)"
   ]
  },
  {
   "cell_type": "code",
   "execution_count": 4,
   "metadata": {},
   "outputs": [
    {
     "name": "stdout",
     "output_type": "stream",
     "text": [
      "The number of sides in the polyon: 6\n",
      "The circum_radius of the polygon: 10\n",
      "\n",
      "********* Polygon Property computed *********\n",
      "\n",
      "The interior angle of the regular polygon: 120.0\n",
      "The edge_length of the regular polygon: 10.0\n",
      "The apothem of the regular polygon: 8.66\n",
      "The area of the regular polygon: 259.81\n",
      "The perimeter of the regular polygon: 60.0\n"
     ]
    }
   ],
   "source": [
    "# Checking the object attributes\n",
    "reg_polygon1.set_polygon_property\n",
    "print(f'The number of sides in the polyon: {reg_polygon1.num_of_sides}')\n",
    "print(f'The circum_radius of the polygon: {reg_polygon1.circum_radius}')\n",
    "print('\\n********* Polygon Property computed *********\\n')\n",
    "print(f'The interior angle of the regular polygon: {round(reg_polygon1.interior_angle, 2)}')\n",
    "print(f'The edge_length of the regular polygon: {round(reg_polygon1.edge_length, 2)}')\n",
    "print(f'The apothem of the regular polygon: {round(reg_polygon1.apothem, 2)}')\n",
    "print(f'The area of the regular polygon: {round(reg_polygon1.area, 2)}')\n",
    "print(f'The perimeter of the regular polygon: {round(reg_polygon1.perimeter, 2)}')"
   ]
  },
  {
   "cell_type": "code",
   "execution_count": 5,
   "metadata": {},
   "outputs": [
    {
     "name": "stdout",
     "output_type": "stream",
     "text": [
      "The polygons are equal\n",
      "True\n",
      "Different polygon\n",
      "False\n",
      "Different polygon\n",
      "False\n"
     ]
    }
   ],
   "source": [
    "# Checking the __eq__() method\n",
    "reg_polygon3 = regular_polygon(6, 10) # Hexagon with circum_radius 10\n",
    "reg_polygon4 = regular_polygon(6, 10.5) # Hexagon with circum_radius 10\n",
    "print(reg_polygon1.__eq__(reg_polygon3)) # Checking the number of sides and circum_radius\n",
    "print(reg_polygon1 == (reg_polygon4))\n",
    "print(reg_polygon2 == (reg_polygon3))"
   ]
  },
  {
   "cell_type": "code",
   "execution_count": 6,
   "metadata": {},
   "outputs": [
    {
     "name": "stdout",
     "output_type": "stream",
     "text": [
      "6 is smaller than 10\n",
      "False\n",
      "6 is smaller than 15\n",
      "False\n",
      "12 is bigger than 10\n",
      "True\n"
     ]
    }
   ],
   "source": [
    "# Checking the __gt__() method\n",
    "reg_polygon3 = regular_polygon(10, 1.2) # Hexagon with circum_radius 10\n",
    "reg_polygon4 = regular_polygon(15, 10.5) # Hexagon with circum_radius 10\n",
    "print(reg_polygon1.__gt__(reg_polygon3)) # Checking the number of sides and circum_radius\n",
    "print(reg_polygon1 > (reg_polygon4))\n",
    "print(reg_polygon2 > (reg_polygon3))"
   ]
  },
  {
   "cell_type": "markdown",
   "metadata": {},
   "source": [
    "### Class custom_polygon_sequence"
   ]
  },
  {
   "cell_type": "code",
   "execution_count": 7,
   "metadata": {},
   "outputs": [],
   "source": [
    "# Creating a custom_polygon_sequence object\n",
    "polygons = custom_polygon_sequence(25, 10)"
   ]
  },
  {
   "cell_type": "code",
   "execution_count": 8,
   "metadata": {},
   "outputs": [
    {
     "name": "stdout",
     "output_type": "stream",
     "text": [
      "This is a polygon sequence with the largest polygon having 25 sides and each polygon having 10 unit circum_radius\n"
     ]
    }
   ],
   "source": [
    "# Checking the repr method of the class\n",
    "print(polygons)"
   ]
  },
  {
   "cell_type": "code",
   "execution_count": 9,
   "metadata": {},
   "outputs": [
    {
     "name": "stdout",
     "output_type": "stream",
     "text": [
      "The area-perimeter ratio of the max efficient polygon is 4.96 with 25 vertices\n"
     ]
    }
   ],
   "source": [
    "# Checking the polygon with highest area to perimeter ratio\n",
    "print(polygons.max_efficiency_polygon)"
   ]
  },
  {
   "cell_type": "code",
   "execution_count": 10,
   "metadata": {},
   "outputs": [
    {
     "name": "stdout",
     "output_type": "stream",
     "text": [
      "The ratio of area to perimeter of the polygons in the sequence\n",
      "The length of the polygon sequence: 23\n",
      "len() of the dict with polygons stored: 23\n"
     ]
    },
    {
     "data": {
      "text/plain": [
       "{3: 2.5000000000000004,\n",
       " 4: 3.535533905932738,\n",
       " 5: 4.045084971874737,\n",
       " 6: 4.330127018922194,\n",
       " 7: 4.504844339512096,\n",
       " 8: 4.619397662556434,\n",
       " 9: 4.698463103929543,\n",
       " 10: 4.755282581475767,\n",
       " 11: 4.7974648680724865,\n",
       " 12: 4.8296291314453415,\n",
       " 13: 4.85470908713026,\n",
       " 14: 4.874639560909118,\n",
       " 15: 4.8907380036690284,\n",
       " 16: 4.903926402016152,\n",
       " 17: 4.914865498419509,\n",
       " 18: 4.92403876506104,\n",
       " 19: 4.931806517013611,\n",
       " 20: 4.938441702975689,\n",
       " 21: 4.944154131125643,\n",
       " 22: 4.949107209404663,\n",
       " 23: 4.953429730181654,\n",
       " 24: 4.957224306869052,\n",
       " 25: 4.9605735065723895}"
      ]
     },
     "execution_count": 10,
     "metadata": {},
     "output_type": "execute_result"
    }
   ],
   "source": [
    "# Checking the sequence and len() function\n",
    "print('The ratio of area to perimeter of the polygons in the sequence')\n",
    "print(f'The length of the polygon sequence: {polygons.__len__()}')\n",
    "print(f'len() of the dict with polygons stored: {len(polygons.area_peri_ratios)}')\n",
    "polygons.area_peri_ratios"
   ]
  },
  {
   "cell_type": "code",
   "execution_count": 11,
   "metadata": {},
   "outputs": [
    {
     "name": "stdout",
     "output_type": "stream",
     "text": [
      "The polygon area/perimeter ratio with 0 sides : Not a polygon\n",
      "The polygon area/perimeter ratio with 1 sides : Not a polygon\n",
      "The polygon area/perimeter ratio with 2 sides : Not a polygon\n",
      "The polygon area/perimeter ratio with 3 sides : 2.5000000000000004\n",
      "The polygon area/perimeter ratio with 4 sides : 3.535533905932738\n",
      "The polygon area/perimeter ratio with 5 sides : 4.045084971874737\n",
      "The polygon area/perimeter ratio with 6 sides : 4.330127018922194\n",
      "The polygon area/perimeter ratio with 7 sides : 4.504844339512096\n",
      "The polygon area/perimeter ratio with 8 sides : 4.619397662556434\n",
      "The polygon area/perimeter ratio with 9 sides : 4.698463103929543\n",
      "The polygon area/perimeter ratio with 10 sides : 4.755282581475767\n",
      "The polygon area/perimeter ratio with 11 sides : 4.7974648680724865\n",
      "The polygon area/perimeter ratio with 12 sides : 4.8296291314453415\n"
     ]
    }
   ],
   "source": [
    "# Checking the __getitem__() function with positive indexes\n",
    "for i in range(0, 13):\n",
    "    print(f'The polygon area/perimeter ratio with {i} sides : '+ str(polygons.__getitem__(i)))"
   ]
  },
  {
   "cell_type": "code",
   "execution_count": 12,
   "metadata": {},
   "outputs": [
    {
     "name": "stdout",
     "output_type": "stream",
     "text": [
      "The polygon area/perimeter ratio at the -1 index : 4.9605735065723895\n",
      "The polygon area/perimeter ratio at the -2 index : 4.957224306869052\n",
      "The polygon area/perimeter ratio at the -3 index : 4.953429730181654\n",
      "The polygon area/perimeter ratio at the -4 index : 4.949107209404663\n",
      "The polygon area/perimeter ratio at the -5 index : 4.944154131125643\n",
      "The polygon area/perimeter ratio at the -6 index : 4.938441702975689\n",
      "The polygon area/perimeter ratio at the -7 index : 4.931806517013611\n",
      "The polygon area/perimeter ratio at the -8 index : 4.92403876506104\n",
      "The polygon area/perimeter ratio at the -9 index : 4.914865498419509\n",
      "The polygon area/perimeter ratio at the -10 index : 4.903926402016152\n",
      "The polygon area/perimeter ratio at the -11 index : 4.8907380036690284\n",
      "The polygon area/perimeter ratio at the -12 index : 4.874639560909118\n"
     ]
    }
   ],
   "source": [
    "# Checking the __getitem__() function with negative indexes\n",
    "for i in range(-1, -13, -1):\n",
    "    print(f'The polygon area/perimeter ratio at the {i} index : '+ str(polygons.__getitem__(i)))"
   ]
  }
 ],
 "metadata": {
  "kernelspec": {
   "display_name": "Python 3",
   "language": "python",
   "name": "python3"
  },
  "language_info": {
   "codemirror_mode": {
    "name": "ipython",
    "version": 3
   },
   "file_extension": ".py",
   "mimetype": "text/x-python",
   "name": "python",
   "nbconvert_exporter": "python",
   "pygments_lexer": "ipython3",
   "version": "3.6.5"
  }
 },
 "nbformat": 4,
 "nbformat_minor": 2
}
